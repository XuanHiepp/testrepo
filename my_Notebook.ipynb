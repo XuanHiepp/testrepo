{
 "cells": [
  {
   "cell_type": "code",
   "execution_count": 3,
   "id": "04ac1b0c",
   "metadata": {},
   "outputs": [
    {
     "data": {
      "text/plain": [
       "2"
      ]
     },
     "execution_count": 3,
     "metadata": {},
     "output_type": "execute_result"
    }
   ],
   "source": [
    "# BT1\n",
    "1+1"
   ]
  },
  {
   "cell_type": "code",
   "execution_count": 4,
   "id": "a3da6570",
   "metadata": {},
   "outputs": [
    {
     "data": {
      "text/plain": [
       "5"
      ]
     },
     "execution_count": 4,
     "metadata": {},
     "output_type": "execute_result"
    }
   ],
   "source": [
    "1*2+3"
   ]
  },
  {
   "cell_type": "code",
   "execution_count": null,
   "id": "f0ef0f4d",
   "metadata": {},
   "outputs": [],
   "source": [
    "# BT2"
   ]
  },
  {
   "cell_type": "markdown",
   "id": "fb36e271",
   "metadata": {},
   "source": [
    "My title"
   ]
  },
  {
   "cell_type": "code",
   "execution_count": null,
   "id": "5442c27c",
   "metadata": {},
   "outputs": [],
   "source": []
  }
 ],
 "metadata": {
  "kernelspec": {
   "display_name": "Python 3 (ipykernel)",
   "language": "python",
   "name": "python3"
  },
  "language_info": {
   "codemirror_mode": {
    "name": "ipython",
    "version": 3
   },
   "file_extension": ".py",
   "mimetype": "text/x-python",
   "name": "python",
   "nbconvert_exporter": "python",
   "pygments_lexer": "ipython3",
   "version": "3.11.5"
  }
 },
 "nbformat": 4,
 "nbformat_minor": 5
}
